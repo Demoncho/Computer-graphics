{
 "cells": [
  {
   "cell_type": "code",
   "execution_count": 1,
   "metadata": {},
   "outputs": [],
   "source": [
    "from skimage.io import imread, imshow, imsave\n",
    "from skimage.color import gray2rgb\n",
    "import numpy as np"
   ]
  },
  {
   "cell_type": "markdown",
   "metadata": {},
   "source": [
    "## 1а)Заливка заданным цветом."
   ]
  },
  {
   "cell_type": "code",
   "execution_count": 2,
   "metadata": {},
   "outputs": [],
   "source": [
    "path = \"Рабочий стол/tikva.png\""
   ]
  },
  {
   "cell_type": "code",
   "execution_count": 3,
   "metadata": {},
   "outputs": [],
   "source": [
    "img = gray2rgb(imread(path))"
   ]
  },
  {
   "cell_type": "code",
   "execution_count": 4,
   "metadata": {
    "scrolled": true
   },
   "outputs": [],
   "source": [
    "imshow(img);"
   ]
  },
  {
   "cell_type": "code",
   "execution_count": 5,
   "metadata": {},
   "outputs": [],
   "source": [
    "def fill_area(img, start_point, start_point_color ,desired_color):\n",
    "    if type(img[0][0]) != np.uint8:\n",
    "        fill_area_rgb(img, start_point, list(start_point_color) ,desired_color)\n",
    "    else:\n",
    "        fill_area_gray(img, start_point, start_point_color ,desired_color)\n",
    "        \n",
    "\n",
    "def fill_area_gray(img, start_point, start_point_color ,desired_color):\n",
    "    x0 = start_point[1] \n",
    "    y0 = start_point[0]\n",
    "    img[y0][x0] = desired_color\n",
    "    # ищем левую границу\n",
    "    xl = x0 - 1\n",
    "    while img[y0][xl] == start_point_color and xl > 0:\n",
    "        xl -= 1\n",
    "    for x in range(x0, xl, -1):\n",
    "        img[y0][x] = desired_color            \n",
    "\n",
    "    # ищем правую границу\n",
    "    xr = x0 + 1\n",
    "    while img[y0][xr] == start_point_color and xr < img.shape[1]-1:\n",
    "        xr += 1 \n",
    "    for x in range(xr, x0, -1):\n",
    "        img[y0][x] = desired_color  \n",
    "    for x in range(xl, xr+1):\n",
    "        if y0 != img.shape[0]-1 and start_point_color == img[y0+1][x]:\n",
    "            fill_area_gray(img, (y0+1, x), start_point_color, desired_color)\n",
    "        if y0 != 0 and start_point_color == img[y0-1][x]:\n",
    "            fill_area_gray(img, (y0-1, x), start_point_color, desired_color)\n",
    "                \n",
    "def fill_area_rgb(img, start_point, start_point_color ,desired_color):\n",
    "    x0 = start_point[1] \n",
    "    y0 = start_point[0]\n",
    "    img[y0][x0] = desired_color\n",
    "    # ищем левую границу\n",
    "    xl = x0 - 1\n",
    "    while list(img[y0][xl]) == start_point_color and xl > 0:\n",
    "        xl -= 1\n",
    "    for x in range(x0, xl, -1):\n",
    "        img[y0][x] = desired_color            \n",
    "\n",
    "    # ищем правую границу\n",
    "    xr = x0 + 1\n",
    "    while list(img[y0][xr]) == start_point_color and xr < img.shape[1]-1:\n",
    "        xr += 1 \n",
    "    for x in range(xr, x0, -1):\n",
    "        img[y0][x] = desired_color  \n",
    "    for x in range(xl, xr+1):\n",
    "        if y0 != img.shape[0]-1 and start_point_color == list(img[y0+1][x]):\n",
    "            fill_area_rgb(img, (y0+1, x), start_point_color, desired_color)\n",
    "        if y0 != 0 and start_point_color == list(img[y0-1][x]):\n",
    "            fill_area_rgb(img, (y0-1, x), start_point_color, desired_color)"
   ]
  },
  {
   "cell_type": "code",
   "execution_count": 7,
   "metadata": {
    "scrolled": false
   },
   "outputs": [],
   "source": [
    "y, x = 0, 0\n",
    "fill_area(img, (y, x), img[y, x], [200, 100, 12])"
   ]
  },
  {
   "cell_type": "code",
   "execution_count": 8,
   "metadata": {},
   "outputs": [
    {
     "data": {
      "text/plain": [
       "<matplotlib.image.AxesImage at 0x7f79ddc46b38>"
      ]
     },
     "execution_count": 8,
     "metadata": {},
     "output_type": "execute_result"
    },
    {
     "data": {
      "image/png": "[encoded data removed]",
      "text/plain": [
       "<Figure size 432x288 with 1 Axes>"
      ]
     },
     "metadata": {
      "needs_background": "light"
     },
     "output_type": "display_data"
    }
   ],
   "source": [
    "imshow(img)"
   ]
  },
  {
   "cell_type": "code",
   "execution_count": null,
   "metadata": {},
   "outputs": [],
   "source": []
  }
 ],
 "metadata": {
  "kernelspec": {
   "display_name": "Python 3",
   "language": "python",
   "name": "python3"
  },
  "language_info": {
   "codemirror_mode": {
    "name": "ipython",
    "version": 3
   },
   "file_extension": ".py",
   "mimetype": "text/x-python",
   "name": "python",
   "nbconvert_exporter": "python",
   "pygments_lexer": "ipython3",
   "version": "3.7.1"
  }
 },
 "nbformat": 4,
 "nbformat_minor": 2
}
