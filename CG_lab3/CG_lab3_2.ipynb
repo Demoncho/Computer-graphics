{
 "cells": [
  {
   "cell_type": "code",
   "execution_count": 151,
   "metadata": {},
   "outputs": [],
   "source": [
    "from skimage.io import imread, imshow, imsave\n",
    "from skimage.color import gray2rgb\n",
    "from tkinter import *\n",
    "from PIL import Image, ImageDraw\n",
    "import numpy as np"
   ]
  },
  {
   "cell_type": "code",
   "execution_count": 152,
   "metadata": {},
   "outputs": [],
   "source": [
    "path = \"test.bmp\""
   ]
  },
  {
   "cell_type": "code",
   "execution_count": 153,
   "metadata": {},
   "outputs": [
    {
     "data": {
      "text/plain": [
       "<matplotlib.image.AxesImage at 0x21bc686bf60>"
      ]
     },
     "execution_count": 153,
     "metadata": {},
     "output_type": "execute_result"
    },
    {
     "data": {
      "image/png": "[encoded data removed]",
      "text/plain": [
       "<Figure size 432x288 with 1 Axes>"
      ]
     },
     "metadata": {
      "needs_background": "light"
     },
     "output_type": "display_data"
    }
   ],
   "source": [
    "img = gray2rgb(imread(path))\n",
    "imshow(img)"
   ]
  },
  {
   "cell_type": "code",
   "execution_count": 154,
   "metadata": {},
   "outputs": [],
   "source": [
    "def find_border(img,border_color):\n",
    "    x = 0\n",
    "    y = 0\n",
    "    for y in range (0, img.shape[0]):\n",
    "        for x in range (0, img.shape[1]):\n",
    "            if list(img[y][x]) == border_color:\n",
    "                return (y,x)\n",
    "            \n",
    "def make_black(img):\n",
    "    for y in range (0, img.shape[0]):\n",
    "        for x in range (0, img.shape[1]):\n",
    "            if list(img[y][x]) != [255,255,255]:\n",
    "                img[y][x] = [0,0,0]"
   ]
  },
  {
   "cell_type": "code",
   "execution_count": 155,
   "metadata": {},
   "outputs": [],
   "source": [
    "def get_border(img,start_point, border_color, direction, border_field):\n",
    "    y = start_point[0]\n",
    "    x = start_point[1]\n",
    "    \n",
    "    #print(direction)\n",
    "    \n",
    "    if start_point in border_field:\n",
    "        #print(\"AAA\")\n",
    "        return\n",
    "   \n",
    "    \n",
    "    border_field.add(start_point)\n",
    "    \n",
    "    if direction == 'l':\n",
    "        if list(img[y][x-1]) == border_color:\n",
    "            get_border(img, (y, x-1), border_color, 'l', border_field)\n",
    "        elif list(img[y][x-1]) != border_color  and list(img[y-1][x]) == border_color:\n",
    "            get_border(img, (y-1, x), border_color, 'u', border_field)\n",
    "        elif list(img[y][x-1]) != border_color  and list(img[y+1][x]) == border_color:\n",
    "            get_border(img, (y+1, x), border_color, 'd', border_field)\n",
    "\n",
    "    if direction == 'r':\n",
    "        #print(img[y][x+1])\n",
    "        if list(img[y][x+1]) == border_color:\n",
    "            get_border(img, (y, x+1), border_color, 'r', border_field)\n",
    "        elif list(img[y][x+1]) != border_color  and list(img[y-1][x]) == border_color:\n",
    "            get_border(img, (y-1, x), border_color, 'u', border_field)\n",
    "        elif list(img[y][x+1]) != border_color  and list(img[y+1][x]) == border_color:\n",
    "            get_border(img, (y+1, x), border_color, 'd', border_field)\n",
    "            \n",
    "    if direction == 'u':\n",
    "        if list(img[y-1][x]) == border_color:\n",
    "            get_border(img, (y-1, x), border_color, 'u', border_field)\n",
    "        elif list(img[y-1][x]) != border_color  and list(img[y][x-1]) == border_color:\n",
    "            get_border(img, (y, x-1), border_color, 'l', border_field)\n",
    "        elif list(img[y-1][x]) != border_color  and list(img[y][x+1]) == border_color:\n",
    "            get_border(img, (y, x+1), border_color, 'r', border_field)\n",
    "        \n",
    "    if direction == 'd':\n",
    "        if list(img[y+1][x]) == border_color:\n",
    "            get_border(img, (y+1, x), border_color, 'd', border_field)\n",
    "        elif list(img[y+1][x]) != border_color  and list(img[y][x-1]) == border_color:\n",
    "            get_border(img, (y, x-1), border_color, 'l', border_field)\n",
    "        elif list(img[y+1][x]) != border_color  and list(img[y][x+1]) == border_color:\n",
    "            get_border(img, (y, x+1), border_color, 'r', border_field)\n",
    "            \n",
    "    img[y][x] = [150,100,50] "
   ]
  },
  {
   "cell_type": "code",
   "execution_count": 156,
   "metadata": {},
   "outputs": [
    {
     "name": "stdout",
     "output_type": "stream",
     "text": [
      "(55, 99)\n",
      "None\n"
     ]
    },
    {
     "data": {
      "text/plain": [
       "<matplotlib.image.AxesImage at 0x21bc5641ef0>"
      ]
     },
     "execution_count": 156,
     "metadata": {},
     "output_type": "execute_result"
    },
    {
     "data": {
      "image/png": "[encoded data removed]",
      "text/plain": [
       "<Figure size 432x288 with 1 Axes>"
      ]
     },
     "metadata": {
      "needs_background": "light"
     },
     "output_type": "display_data"
    }
   ],
   "source": [
    "border_field = set()\n",
    "border_color = [0,0,0]\n",
    "start_point = find_border(img , border_color)\n",
    "print(start_point)\n",
    "border = get_border(img, start_point, border_color, 'r', border_field)\n",
    "print(border)\n",
    "imshow(img)"
   ]
  },
  {
   "cell_type": "code",
   "execution_count": null,
   "metadata": {},
   "outputs": [],
   "source": []
  },
  {
   "cell_type": "code",
   "execution_count": null,
   "metadata": {},
   "outputs": [],
   "source": []
  }
 ],
 "metadata": {
  "kernelspec": {
   "display_name": "Python 3",
   "language": "python",
   "name": "python3"
  },
  "language_info": {
   "codemirror_mode": {
    "name": "ipython",
    "version": 3
   },
   "file_extension": ".py",
   "mimetype": "text/x-python",
   "name": "python",
   "nbconvert_exporter": "python",
   "pygments_lexer": "ipython3",
   "version": "3.7.3"
  }
 },
 "nbformat": 4,
 "nbformat_minor": 2
}
